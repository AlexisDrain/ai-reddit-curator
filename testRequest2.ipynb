{
 "cells": [
  {
   "cell_type": "code",
   "execution_count": 12,
   "metadata": {},
   "outputs": [
    {
     "data": {
      "text/plain": [
       "{'features': {'modmail_harassment_filter': True,\n",
       "  'mod_service_mute_writes': True,\n",
       "  'promoted_trend_blanks': True,\n",
       "  'show_amp_link': True,\n",
       "  'no_subscription_step': {'owner': 'growth',\n",
       "   'variant': 'control_1',\n",
       "   'experiment_id': 303},\n",
       "  'mweb_comments_banner': {'owner': 'ads',\n",
       "   'variant': 'control_2',\n",
       "   'experiment_id': 364},\n",
       "  'mweb_in_feed_refresh': {'owner': 'growth',\n",
       "   'variant': 'control_2',\n",
       "   'experiment_id': 507},\n",
       "  'is_email_permission_required': False,\n",
       "  'mod_awards': True,\n",
       "  'mweb_xpromo_revamp_v3': {'owner': 'growth',\n",
       "   'variant': 'treatment_4',\n",
       "   'experiment_id': 480},\n",
       "  'mweb_xpromo_revamp_v2': {'owner': 'growth',\n",
       "   'variant': 'treatment_5',\n",
       "   'experiment_id': 457},\n",
       "  'awards_on_streams': True,\n",
       "  'mweb_xpromo_modal_listing_click_daily_dismissible_ios': True,\n",
       "  'chat_subreddit': True,\n",
       "  'mweb_link_tab': {'owner': 'growth',\n",
       "   'variant': 'control_1',\n",
       "   'experiment_id': 404},\n",
       "  'modlog_copyright_removal': True,\n",
       "  'show_nps_survey': True,\n",
       "  'do_not_track': True,\n",
       "  'images_in_comments': True,\n",
       "  'mod_service_mute_reads': True,\n",
       "  'chat_user_settings': True,\n",
       "  'use_pref_account_deployment': True,\n",
       "  'mweb_xpromo_interstitial_comments_ios': True,\n",
       "  'mweb_xpromo_modal_listing_click_daily_dismissible_android': True,\n",
       "  'premium_subscriptions_table': True,\n",
       "  'mweb_xpromo_interstitial_comments_android': True,\n",
       "  'crowd_control_for_post': True,\n",
       "  'cookie_consent_banner': True,\n",
       "  'mweb_footer_upsell': {'owner': 'growth',\n",
       "   'variant': 'light_2',\n",
       "   'experiment_id': 497},\n",
       "  'chat_group_rollout': True,\n",
       "  'resized_styles_images': True,\n",
       "  'noreferrer_to_noopener': True,\n",
       "  'swap_steps_two_and_three_recalibration': {'owner': 'growth',\n",
       "   'variant': 'treatment_5',\n",
       "   'experiment_id': 324},\n",
       "  'expensive_coins_package': True}}"
      ]
     },
     "execution_count": 12,
     "metadata": {},
     "output_type": "execute_result"
    }
   ],
   "source": [
    "import requests\n",
    "import secrets\n",
    "\n",
    "# taken from https://ssl.reddit.com/prefs/apps/\n",
    "# secret = \"c0aOfsj7xRn3JzuoJC2EPfeVlHiQAA\"\n",
    "\n",
    "\n",
    "# Replace the placeholders with your actual values\n",
    "# client_id = \"6Hef4rlP_2-rMq5Qfeox5w\"\n",
    "# response_type = \"code\"\n",
    "# random_string = secrets.token_urlsafe(16)\n",
    "# redirect_uri = \"https://github.com/AlexisDrain/Claude-Reddit-Curator\"\n",
    "# duration = \"permanent\"\n",
    "# scope_string = \"read\"\n",
    "# \"grant_type\": \"password\" in script apps. Otherwise it's \"authorization_code\"  https://github.com/reddit-archive/reddit/wiki/OAuth2#authorization\n",
    "post_data = {\"grant_type\": \"password\", \"username\": \"my_tummy_hurts\", \"password\": \"ckvLYXrsCFs73Kg\"} # password is blank when you don't need info\n",
    "\n",
    "# following https://github.com/reddit-archive/reddit/wiki/OAuth2-Quick-Start-Example#python-example\n",
    "client_auth = requests.auth.HTTPBasicAuth(client_id, 'c0aOfsj7xRn3JzuoJC2EPfeVlHiQAA')\n",
    "# headers = {\"User-Agent\": \"AIRedditCurator/0.1 by my_tummy_hurts\"}\n",
    "# response = requests.post(\"https://www.reddit.com/api/v1/access_token\", auth=client_auth, data=post_data, headers=headers)\n",
    "# response.json()\n",
    "# token = response.json()['access_token']\n",
    "\n",
    "\n",
    "headers = {\"Authorization\": \"bearer\", \"User-Agent\": \"AIRedditCurator/1.0 by my_tummy_hurts\"}\n",
    "# response1 = requests.post(\"https://www.reddit.com/api/v1/access_token\", auth=client_auth, data=post_data, headers=headers)\n",
    "response2 = requests.get(\"https://oauth.reddit.com/api/v1/me\", headers=headers)\n",
    "response2.json()"
   ]
  },
  {
   "cell_type": "code",
   "execution_count": null,
   "metadata": {},
   "outputs": [],
   "source": []
  },
  {
   "cell_type": "code",
   "execution_count": null,
   "metadata": {},
   "outputs": [],
   "source": []
  },
  {
   "cell_type": "code",
   "execution_count": null,
   "metadata": {},
   "outputs": [],
   "source": []
  },
  {
   "cell_type": "code",
   "execution_count": null,
   "metadata": {},
   "outputs": [],
   "source": []
  },
  {
   "cell_type": "code",
   "execution_count": null,
   "metadata": {},
   "outputs": [],
   "source": []
  },
  {
   "cell_type": "code",
   "execution_count": null,
   "metadata": {},
   "outputs": [],
   "source": []
  }
 ],
 "metadata": {
  "kernelspec": {
   "display_name": "Python 3",
   "language": "python",
   "name": "python3"
  },
  "language_info": {
   "codemirror_mode": {
    "name": "ipython",
    "version": 3
   },
   "file_extension": ".py",
   "mimetype": "text/x-python",
   "name": "python",
   "nbconvert_exporter": "python",
   "pygments_lexer": "ipython3",
   "version": "3.12.0"
  }
 },
 "nbformat": 4,
 "nbformat_minor": 2
}
