{
 "cells": [
  {
   "cell_type": "code",
   "execution_count": 1,
   "metadata": {},
   "outputs": [
    {
     "data": {
      "text/plain": [
       "100"
      ]
     },
     "execution_count": 1,
     "metadata": {},
     "output_type": "execute_result"
    }
   ],
   "source": [
    "# test set\n",
    "# https://docs.google.com/spreadsheets/d/1GOdC_YhIXf4d5d8r8lQ1aeS930U3z1Gd7HxByBYyQS8/edit?gid=0#gid=0\n",
    "from crawl import get_posts\n",
    "\n",
    "posts = get_posts(100)\n",
    "len(posts)"
   ]
  },
  {
   "cell_type": "code",
   "execution_count": 3,
   "metadata": {},
   "outputs": [],
   "source": [
    "# import json\n",
    "\n",
    "# with open(\"test_posts.jsonl\",'w') as w:\n",
    "#     for post in posts:\n",
    "#         w.write(json.dumps(post) + '\\n')\n"
   ]
  },
  {
   "cell_type": "code",
   "execution_count": 1,
   "metadata": {},
   "outputs": [],
   "source": [
    "import json\n",
    "with open(\"test_posts.jsonl\",'r') as r:\n",
    "    test_set = [json.loads(line) for line in r]"
   ]
  },
  {
   "cell_type": "code",
   "execution_count": 2,
   "metadata": {},
   "outputs": [
    {
     "data": {
      "text/plain": [
       "{'kind': 't3',\n",
       " 'data': {'approved_at_utc': None,\n",
       "  'subreddit': 'pics',\n",
       "  'selftext': '',\n",
       "  'author_fullname': 't2_17bmi8',\n",
       "  'saved': False,\n",
       "  'mod_reason_title': None,\n",
       "  'gilded': 0,\n",
       "  'clicked': False,\n",
       "  'title': 'Daniel Radcliffe is now a Tony Award Winner',\n",
       "  'link_flair_richtext': [],\n",
       "  'subreddit_name_prefixed': 'r/pics',\n",
       "  'hidden': False,\n",
       "  'pwls': None,\n",
       "  'link_flair_css_class': None,\n",
       "  'downs': 0,\n",
       "  'thumbnail_height': 140,\n",
       "  'top_awarded_type': None,\n",
       "  'hide_score': False,\n",
       "  'name': 't3_1dhn11v',\n",
       "  'quarantine': False,\n",
       "  'link_flair_text_color': 'dark',\n",
       "  'upvote_ratio': 0.97,\n",
       "  'author_flair_background_color': None,\n",
       "  'subreddit_type': 'public',\n",
       "  'ups': 9629,\n",
       "  'total_awards_received': 0,\n",
       "  'media_embed': {},\n",
       "  'thumbnail_width': 140,\n",
       "  'author_flair_template_id': None,\n",
       "  'is_original_content': False,\n",
       "  'user_reports': [],\n",
       "  'secure_media': None,\n",
       "  'is_reddit_media_domain': True,\n",
       "  'is_meta': False,\n",
       "  'category': None,\n",
       "  'secure_media_embed': {},\n",
       "  'link_flair_text': None,\n",
       "  'can_mod_post': False,\n",
       "  'score': 9629,\n",
       "  'approved_by': None,\n",
       "  'is_created_from_ads_ui': False,\n",
       "  'author_premium': False,\n",
       "  'thumbnail': 'https://b.thumbs.redditmedia.com/Ydk4VI0a7_ZJalvIO3x5SOsV_f9yObvmjFylUh2YWvc.jpg',\n",
       "  'edited': False,\n",
       "  'author_flair_css_class': None,\n",
       "  'author_flair_richtext': [],\n",
       "  'gildings': {},\n",
       "  'post_hint': 'image',\n",
       "  'content_categories': ['photography'],\n",
       "  'is_self': False,\n",
       "  'mod_note': None,\n",
       "  'created': 1718589264.0,\n",
       "  'link_flair_type': 'text',\n",
       "  'wls': None,\n",
       "  'removed_by_category': None,\n",
       "  'banned_by': None,\n",
       "  'author_flair_type': 'text',\n",
       "  'domain': 'i.redd.it',\n",
       "  'allow_live_comments': True,\n",
       "  'selftext_html': None,\n",
       "  'likes': None,\n",
       "  'suggested_sort': None,\n",
       "  'banned_at_utc': None,\n",
       "  'url_overridden_by_dest': 'https://i.redd.it/9rk7zpz3g17d1.jpeg',\n",
       "  'view_count': None,\n",
       "  'archived': False,\n",
       "  'no_follow': False,\n",
       "  'is_crosspostable': False,\n",
       "  'pinned': False,\n",
       "  'over_18': False,\n",
       "  'preview': {'images': [{'source': {'url': 'https://preview.redd.it/9rk7zpz3g17d1.jpeg?auto=webp&amp;s=f53bdf71e3117d8bda692da45890f193d9680860',\n",
       "      'width': 1199,\n",
       "      'height': 1199},\n",
       "     'resolutions': [{'url': 'https://preview.redd.it/9rk7zpz3g17d1.jpeg?width=108&amp;crop=smart&amp;auto=webp&amp;s=97a9e1caa0043d7f44c59254f05550ffb6cff9d9',\n",
       "       'width': 108,\n",
       "       'height': 108},\n",
       "      {'url': 'https://preview.redd.it/9rk7zpz3g17d1.jpeg?width=216&amp;crop=smart&amp;auto=webp&amp;s=0f6b8f9e15dc068c573d078280c639310a0254e5',\n",
       "       'width': 216,\n",
       "       'height': 216},\n",
       "      {'url': 'https://preview.redd.it/9rk7zpz3g17d1.jpeg?width=320&amp;crop=smart&amp;auto=webp&amp;s=ee5bcac7eb4dd27b98866ac1503e6cd1c57c000a',\n",
       "       'width': 320,\n",
       "       'height': 320},\n",
       "      {'url': 'https://preview.redd.it/9rk7zpz3g17d1.jpeg?width=640&amp;crop=smart&amp;auto=webp&amp;s=12d489b0895f951b743e5ea24ed87f2ecbd59992',\n",
       "       'width': 640,\n",
       "       'height': 640},\n",
       "      {'url': 'https://preview.redd.it/9rk7zpz3g17d1.jpeg?width=960&amp;crop=smart&amp;auto=webp&amp;s=a9c494d98fa0335fc156050a083c8a3195ea8c04',\n",
       "       'width': 960,\n",
       "       'height': 960},\n",
       "      {'url': 'https://preview.redd.it/9rk7zpz3g17d1.jpeg?width=1080&amp;crop=smart&amp;auto=webp&amp;s=17228ce01f1d49a1c742e436658095c97ac02271',\n",
       "       'width': 1080,\n",
       "       'height': 1080}],\n",
       "     'variants': {},\n",
       "     'id': '5FIIJPudRO4Za-AOUPWZSA9un2JJ2L50h0L5ankeJaI'}],\n",
       "   'enabled': True},\n",
       "  'all_awardings': [],\n",
       "  'awarders': [],\n",
       "  'media_only': False,\n",
       "  'can_gild': False,\n",
       "  'spoiler': False,\n",
       "  'locked': False,\n",
       "  'author_flair_text': None,\n",
       "  'treatment_tags': [],\n",
       "  'visited': False,\n",
       "  'removed_by': None,\n",
       "  'num_reports': None,\n",
       "  'distinguished': None,\n",
       "  'subreddit_id': 't5_2qh0u',\n",
       "  'author_is_blocked': False,\n",
       "  'mod_reason_by': None,\n",
       "  'removal_reason': None,\n",
       "  'link_flair_background_color': '',\n",
       "  'id': '1dhn11v',\n",
       "  'is_robot_indexable': True,\n",
       "  'report_reasons': None,\n",
       "  'author': 'mcfw31',\n",
       "  'discussion_type': None,\n",
       "  'num_comments': 279,\n",
       "  'send_replies': True,\n",
       "  'whitelist_status': None,\n",
       "  'contest_mode': False,\n",
       "  'mod_reports': [],\n",
       "  'author_patreon_flair': False,\n",
       "  'author_flair_text_color': None,\n",
       "  'permalink': '/r/pics/comments/1dhn11v/daniel_radcliffe_is_now_a_tony_award_winner/',\n",
       "  'parent_whitelist_status': None,\n",
       "  'stickied': False,\n",
       "  'url': 'https://i.redd.it/9rk7zpz3g17d1.jpeg',\n",
       "  'subreddit_subscribers': 30879632,\n",
       "  'created_utc': 1718589264.0,\n",
       "  'num_crossposts': 0,\n",
       "  'media': None,\n",
       "  'is_video': False}}"
      ]
     },
     "execution_count": 2,
     "metadata": {},
     "output_type": "execute_result"
    }
   ],
   "source": [
    "test_set[0]"
   ]
  },
  {
   "cell_type": "code",
   "execution_count": 2,
   "metadata": {},
   "outputs": [
    {
     "name": "stdout",
     "output_type": "stream",
     "text": [
      "Can you help me decide what reddit posts to look at?\n",
      "I'm going to give a list of reddit posts, and I want you to rank them from best to worst.\n",
      "The best posts are: mind blowing, hilarious, informative, educational, inspiring, or extremely cute.\n",
      "The worst posts are: ragebait, political, or stupid.\n",
      "Here are the posts:\n",
      "<posts>\n",
      "1. Daniel Radcliffe is now a Tony Award Winner\n",
      "https://i.redd.it/9rk7zpz3g17d1.jpeg\n",
      "2. People are monsters…\n",
      "https://i.redd.it/pv1pe6drt07d1.jpeg\n",
      "3. Former MMA fighter perfectly shuts down &amp; chokes out a man who tries to attack him with a 14-inch machete 😳\n",
      "https://v.redd.it/00n96gt6207d1\n",
      "4. Architectural Assignment Completed\n",
      "https://v.redd.it/rl0xie2g307d1\n",
      "5. meirl\n",
      "https://i.redd.it/y87fs75ax07d1.jpeg\n",
      "6. My cat gave birth to 4 kittens last month. Finally got them all in one picture\n",
      "https://i.redd.it/vtxex0kz407d1.jpeg\n",
      "7. Not sure if I’ve seen a dumber tweet. \n",
      "https://i.redd.it/kfoydm0bm07d1.jpeg\n",
      "8. He’s not wrong 🤷‍♂️\n",
      "https://i.redd.it/x3ytlo29d07d1.png\n",
      "9. TIL Chinese Emperor Qin Er Shi was considered “Son of Heaven”, and that his own voice must never be heard, and his face must never be shown, meaning that ministers rarely had the opportunity to address the emperor. Qin Er Shi was forced to commit suicide at the age of 22\n",
      "https://www.heritagedaily.com/2023/09/tomb-of-qin-er-shi-the-second-emperor-of-china/148689\n",
      "10. This cat doesn’t beg\n",
      "https://v.redd.it/uszy2axec07d1\n",
      "11. Bryson signing a fans hat on his way to the next hole, a great gesture\n",
      "https://v.redd.it/cqlxxjl3407d1\n",
      "12. Thousands Sign Christian Petition Demanding Samuel Alito Resign: 'Unfit'\n",
      "https://www.newsweek.com/thousands-sign-christian-petition-demanding-samuel-alito-resign-1913408\n",
      "13. you're a good dude\n",
      "https://i.redd.it/8jlwpa3jwz6d1.jpeg\n",
      "14. Clever Community Note\n",
      "https://i.redd.it/htlbx10pk07d1.png\n",
      "15. Father's shame from beyond the grave\n",
      "https://v.redd.it/rlr4if1pcz6d1\n",
      "16. Restaurant bans kids under 5, citing dirty diapers and breastfeeding in public as reasons\n",
      "https://www.wbrc.com/2024/06/13/restaurant-bans-kids-under-5-citing-dirty-diapers-breastfeeding-public-reasons/\n",
      "17. He gave his daughter all the love and care which he never received from his parents \n",
      "https://v.redd.it/hbqhgki6jz6d1\n",
      "18. My self-converted school bus\n",
      "https://www.reddit.com/gallery/1dhniv6\n",
      "19. Human missions to Mars in doubt after astronaut kidney shrinkage revealed\n",
      "https://www.yahoo.com/news/human-missions-mars-doubt-astronaut-090649428.html\n",
      "20. Ivanka Trump Mocked After 'amazing dad' Post On Father's Day: \"He cheated on your mother with the mother of your half sister, whose mother he cheated on with the mother of your half brother”\n",
      "https://www.rawstory.com/ivanka-trump-fathers-day/\n",
      "21. Dustin on IG today lmfao\n",
      "https://i.redd.it/he7ock3ch07d1.jpeg\n",
      "22. Sneako gets his tooth broken by security\n",
      "https://v.redd.it/5vciiunjb07d1\n",
      "23. Local brewery had this sign and beer for dads no longer with us. \n",
      "https://i.redd.it/q0hn11vi107d1.jpeg\n",
      "24. Sounds about right\n",
      "https://i.redd.it/uzgdx15f617d1.jpeg\n",
      "25. say thanks to my grandmother for taking my cat to the shelter she was a very clingy and loving cat now’s she’s somewhere scared and thinking I abandoned her in atl at a shelter I seriously hate it here\n",
      "https://i.redd.it/nn33rvir807d1.jpeg\n",
      "\n",
      "</posts>\n",
      "\n",
      "Write your ranking as an enumerated list, and include the url for each post along with an explanation for its rating.\n",
      "\n"
     ]
    }
   ],
   "source": [
    "from sampling import get_prompt\n",
    "prompt = get_prompt(test_set[:25])\n",
    "\n",
    "print(prompt)"
   ]
  },
  {
   "cell_type": "code",
   "execution_count": 13,
   "metadata": {},
   "outputs": [],
   "source": [
    "from sampling import basic_sample\n",
    "results = basic_sample(prompt)"
   ]
  },
  {
   "cell_type": "code",
   "execution_count": 14,
   "metadata": {},
   "outputs": [
    {
     "name": "stdout",
     "output_type": "stream",
     "text": [
      "Here is my ranking of the Reddit posts from best to worst:\n",
      "\n",
      "1. \"TIL Chinese Emperor Qin Er Shi was considered \"Son of Heaven\", and that his own voice must never be heard, and his face must never be shown, meaning that ministers rarely had the opportunity to address the emperor. Qin Er Shi was forced to commit suicide at the age of 22\" - https://www.heritagedaily.com/2023/09/tomb-of-qin-er-shi-the-second-emperor-of-china/148689\n",
      "   - This post is informative and educational, providing an interesting historical fact about the Chinese Emperor Qin Er Shi.\n",
      "\n",
      "2. \"Architectural Assignment Completed\" - https://v.redd.it/rl0xie2g307d1\n",
      "   - This post is mind-blowing, showcasing an impressive architectural feat.\n",
      "\n",
      "3. \"My cat gave birth to 4 kittens last month. Finally got them all in one picture\" - https://i.redd.it/vtxex0kz407d1.jpeg\n",
      "   - This post is extremely cute, featuring adorable kittens.\n",
      "\n",
      "4. \"Bryson signing a fans hat on his way to the next hole, a great gesture\" - https://v.redd.it/cqlxxjl3407d1\n",
      "   - This post is inspiring, showcasing a kind gesture by a celebrity.\n",
      "\n",
      "5. \"He's not wrong 🤷‍♂️\" - https://i.redd.it/x3ytlo29d07d1.png\n",
      "   - This post is hilarious, providing a humorous and relatable observation.\n",
      "\n",
      "6. \"meirl\" - https://i.redd.it/y87fs75ax07d1.jpeg\n",
      "   - This post is hilarious, relating to a common experience.\n",
      "\n",
      "7. \"This cat doesn't beg\" - https://v.redd.it/uszy2axec07d1\n",
      "   - This post is cute, showing a cat's unique behavior.\n",
      "\n",
      "8. \"Clever Community Note\" - https://i.redd.it/htlbx10pk07d1.png\n",
      "   - This post is amusing, showcasing a clever community message.\n",
      "\n",
      "9. \"you're a good dude\" - https://i.redd.it/8jlwpa3jwz6d1.jpeg\n",
      "   - This post is heartwarming, expressing appreciation for someone.\n",
      "\n",
      "10. \"Daniel Radcliffe is now a Tony Award Winner\" - https://i.redd.it/9rk7zpz3g17d1.jpeg\n",
      "    - This post is informative, announcing an accomplishment by a celebrity.\n",
      "\n",
      "11. \"People are monsters…\" - https://i.redd.it/pv1pe6drt07d1.jpeg\n",
      "    - This post is somewhat disturbing, showcasing human cruelty.\n",
      "\n",
      "12. \"Former MMA fighter perfectly shuts down & chokes out a man who tries to attack him with a 14-inch machete 😳\" - https://v.redd.it/00n96gt6207d1\n",
      "    - This post is mildly interesting, but could be considered ragebait.\n",
      "\n",
      "13. \"Sounds about right\" - https://i.redd.it/uzgdx15f617d1.jpeg\n",
      "    - This post is mildly amusing, but not particularly remarkable.\n",
      "\n",
      "14. \"Father's shame from beyond the grave\" - https://v.redd.it/rlr4if1pcz6d1\n",
      "    - This post is somewhat disturbing, dealing with sensitive family issues.\n",
      "\n",
      "15. \"My self-converted school bus\" - https://www.reddit.com/gallery/1dhniv6\n",
      "    - While potentially interesting, this post does not fit the criteria provided.\n",
      "\n",
      "16. \"Human missions to Mars in doubt after astronaut kidney shrinkage revealed\" - https://www.yahoo.com/news/human-missions-mars-doubt-astronaut-090649428.html\n",
      "    - This post is informative, but not particularly mind-blowing or inspiring.\n",
      "\n",
      "17. \"Thousands Sign Christian Petition Demanding Samuel Alito Resign: 'Unfit'\" - https://www.newsweek.com/thousands-sign-christian-petition-demanding-samuel-alito-resign-1913408\n",
      "    - This post is political in nature, which falls under the \"worst\" category.\n",
      "\n",
      "18. \"Ivanka Trump Mocked After 'amazing dad' Post On Father's Day: \"He cheated on your mother with the mother of your half sister, whose mother he cheated on with the mother of your half brother\"\" - https://www.rawstory.com/ivanka-trump-fathers-day/\n",
      "    - This post is political in nature and could be considered ragebait.\n",
      "\n",
      "19. \"Restaurant bans kids under 5, citing dirty diapers and breastfeeding in public as reasons\" - https://www.wbrc.com/2024/06/13/restaurant-bans-kids-under-5-citing-dirty-diapers-breastfeeding-public-reasons/\n",
      "    - This post is somewhat controversial and could be considered ragebait.\n",
      "\n",
      "20. \"He gave his daughter all the love and care which he never received from his parents\" - https://v.redd.it/hbqhgki6jz6d1\n",
      "    - While potentially heartwarming, this post lacks context and could be considered \"stupid\" without more information.\n",
      "\n",
      "21. \"Dustin on IG today lmfao\" - https://i.redd.it/he7ock3ch07d1.jpeg\n",
      "    - This post is unclear and does not provide enough information to be considered interesting or valuable.\n",
      "\n",
      "22. \"Sneako gets his tooth broken by security\" - https://v.redd.it/5vciiunjb07d1\n",
      "    - This post is likely just \"stupid\" and does not fit the criteria of being mind-blowing, hilarious, informative, educational, inspiring, or extremely cute.\n",
      "\n",
      "23. \"say thanks to my grandmother for taking my cat to the shelter she was a very clingy and loving cat now's she's somewhere scared and thinking I abandoned her in atl at a shelter I seriously hate it here\" - https://i.redd.it/nn33rvir807d1.jpeg\n",
      "    - This post is concerning and could be considered \"stupid\" or \"ragebait\" without more context.\n",
      "\n",
      "24. \"Local brewery had this sign and beer for dads no longer with us.\" - https://i.redd.it/q0hn11vi107d1.jpeg\n",
      "    - While potentially heartwarming, this post does not provide enough context to be considered particularly valuable or interesting.\n",
      "\n",
      "25. \"Not sure if I've seen a dumber tweet.\" - https://i.redd.it/kfoydm0bm07d1.jpeg\n",
      "    - This post is likely just \"stupid\" and does not fit the criteria of being mind-blowing, hilarious, informative, educational, inspiring, or extremely cute.\n"
     ]
    }
   ],
   "source": [
    "print(results)"
   ]
  },
  {
   "cell_type": "code",
   "execution_count": null,
   "metadata": {},
   "outputs": [],
   "source": [
    "import re\n",
    "def get_url(line:str):\n",
    "    if \"https://\" in line:\n",
    "        return re.findall(\"https://\\S*\")[0]\n",
    "\n",
    "model_sorted_urls = []\n",
    "rank = 0\n",
    "for line in results.splitlines():\n",
    "    if get_url(line):\n",
    "        \n",
    "\n"
   ]
  },
  {
   "cell_type": "code",
   "execution_count": 29,
   "metadata": {},
   "outputs": [
    {
     "name": "stderr",
     "output_type": "stream",
     "text": [
      "<>:2: SyntaxWarning: invalid escape sequence '\\s'\n",
      "<>:2: SyntaxWarning: invalid escape sequence '\\s'\n",
      "C:\\Users\\alexi\\AppData\\Local\\Temp\\ipykernel_15868\\1022816122.py:2: SyntaxWarning: invalid escape sequence '\\s'\n",
      "  urls = re.findall(\"https://[^\\s\\)]*\", results)\n"
     ]
    }
   ],
   "source": [
    "import re\n",
    "urls = re.findall(\"https://[^\\s\\)]*\", results)"
   ]
  },
  {
   "cell_type": "code",
   "execution_count": 30,
   "metadata": {},
   "outputs": [
    {
     "data": {
      "text/plain": [
       "['https://www.heritagedaily.com/2023/09/tomb-of-qin-er-shi-the-second-emperor-of-china/148689',\n",
       " 'https://v.redd.it/rl0xie2g307d1',\n",
       " 'https://i.redd.it/vtxex0kz407d1.jpeg',\n",
       " 'https://v.redd.it/cqlxxjl3407d1',\n",
       " 'https://i.redd.it/x3ytlo29d07d1.png',\n",
       " 'https://i.redd.it/y87fs75ax07d1.jpeg',\n",
       " 'https://v.redd.it/uszy2axec07d1',\n",
       " 'https://i.redd.it/htlbx10pk07d1.png',\n",
       " 'https://i.redd.it/8jlwpa3jwz6d1.jpeg',\n",
       " 'https://i.redd.it/9rk7zpz3g17d1.jpeg',\n",
       " 'https://i.redd.it/pv1pe6drt07d1.jpeg',\n",
       " 'https://v.redd.it/00n96gt6207d1',\n",
       " 'https://i.redd.it/uzgdx15f617d1.jpeg',\n",
       " 'https://v.redd.it/rlr4if1pcz6d1',\n",
       " 'https://www.reddit.com/gallery/1dhniv6',\n",
       " 'https://www.yahoo.com/news/human-missions-mars-doubt-astronaut-090649428.html',\n",
       " 'https://www.newsweek.com/thousands-sign-christian-petition-demanding-samuel-alito-resign-1913408',\n",
       " 'https://www.rawstory.com/ivanka-trump-fathers-day/',\n",
       " 'https://www.wbrc.com/2024/06/13/restaurant-bans-kids-under-5-citing-dirty-diapers-breastfeeding-public-reasons/',\n",
       " 'https://v.redd.it/hbqhgki6jz6d1',\n",
       " 'https://i.redd.it/he7ock3ch07d1.jpeg',\n",
       " 'https://v.redd.it/5vciiunjb07d1',\n",
       " 'https://i.redd.it/nn33rvir807d1.jpeg',\n",
       " 'https://i.redd.it/q0hn11vi107d1.jpeg',\n",
       " 'https://i.redd.it/kfoydm0bm07d1.jpeg']"
      ]
     },
     "execution_count": 30,
     "metadata": {},
     "output_type": "execute_result"
    }
   ],
   "source": [
    "urls"
   ]
  },
  {
   "cell_type": "code",
   "execution_count": 15,
   "metadata": {},
   "outputs": [
    {
     "data": {
      "text/plain": [
       "'https://i.redd.it/9rk7zpz3g17d1.jpeg'"
      ]
     },
     "execution_count": 15,
     "metadata": {},
     "output_type": "execute_result"
    }
   ],
   "source": [
    "test_set[0]['data']['url']"
   ]
  },
  {
   "cell_type": "code",
   "execution_count": 16,
   "metadata": {},
   "outputs": [
    {
     "data": {
      "text/plain": [
       "'https://v.redd.it/rl0xie2g307d1)'"
      ]
     },
     "execution_count": 16,
     "metadata": {},
     "output_type": "execute_result"
    }
   ],
   "source": [
    "urls[0]"
   ]
  },
  {
   "cell_type": "code",
   "execution_count": 31,
   "metadata": {},
   "outputs": [
    {
     "data": {
      "text/plain": [
       "{0: '/r/todayilearned/comments/1dhkead/til_chinese_emperor_qin_er_shi_was_considered_son/',\n",
       " 1: '/r/Damnthatsinteresting/comments/1dhhnvp/architectural_assignment_completed/',\n",
       " 2: '/r/aww/comments/1dhhu8g/my_cat_gave_birth_to_4_kittens_last_month_finally/',\n",
       " 3: '/r/golf/comments/1dhhqlj/bryson_signing_a_fans_hat_on_his_way_to_the_next/',\n",
       " 4: '/r/FluentInFinance/comments/1dhiuya/hes_not_wrong/',\n",
       " 5: '/r/meirl/comments/1dhl38b/meirl/',\n",
       " 6: '/r/Unexpected/comments/1dhiqil/this_cat_doesnt_beg/',\n",
       " 7: '/r/clevercomebacks/comments/1dhjoup/clever_community_note/',\n",
       " 8: '/r/wholesomememes/comments/1dhgtnz/youre_a_good_dude/',\n",
       " 9: '/r/pics/comments/1dhn11v/daniel_radcliffe_is_now_a_tony_award_winner/',\n",
       " 10: '/r/facepalm/comments/1dhkp9a/people_are_monsters/',\n",
       " 11: '/r/nextfuckinglevel/comments/1dhhily/former_mma_fighter_perfectly_shuts_down_chokes/',\n",
       " 12: '/r/DunderMifflin/comments/1dhm0ys/sounds_about_right/',\n",
       " 13: '/r/funny/comments/1dhef9n/fathers_shame_from_beyond_the_grave/',\n",
       " 14: '/r/CozyPlaces/comments/1dhniv6/my_selfconverted_school_bus/',\n",
       " 15: '/r/technology/comments/1dhehde/human_missions_to_mars_in_doubt_after_astronaut/',\n",
       " 16: '/r/politics/comments/1dhm58l/thousands_sign_christian_petition_demanding/',\n",
       " 17: '/r/AnythingGoesNews/comments/1dhlzc8/ivanka_trump_mocked_after_amazing_dad_post_on/',\n",
       " 18: '/r/nottheonion/comments/1dhiatf/restaurant_bans_kids_under_5_citing_dirty_diapers/',\n",
       " 19: '/r/MadeMeSmile/comments/1dhf6fy/he_gave_his_daughter_all_the_love_and_care_which/',\n",
       " 20: '/r/MMA/comments/1dhjare/dustin_on_ig_today_lmfao/',\n",
       " 21: '/r/PublicFreakout/comments/1dhinku/sneako_gets_his_tooth_broken_by_security/',\n",
       " 22: '/r/cats/comments/1dhiamk/say_thanks_to_my_grandmother_for_taking_my_cat_to/',\n",
       " 23: '/r/mildlyinteresting/comments/1dhhfdf/local_brewery_had_this_sign_and_beer_for_dads_no/',\n",
       " 24: '/r/WhitePeopleTwitter/comments/1dhjvo9/not_sure_if_ive_seen_a_dumber_tweet/'}"
      ]
     },
     "execution_count": 31,
     "metadata": {},
     "output_type": "execute_result"
    }
   ],
   "source": [
    "rank_to_permalink = dict()\n",
    "for i,url in enumerate(urls):\n",
    "    for j,post in enumerate(test_set):\n",
    "        if post['data']['url'] == url:\n",
    "            rank_to_permalink[i] = post['data']['permalink']\n",
    "\n",
    "rank_to_permalink"
   ]
  },
  {
   "cell_type": "code",
   "execution_count": 28,
   "metadata": {},
   "outputs": [
    {
     "data": {
      "text/plain": [
       "dict_keys(['approved_at_utc', 'subreddit', 'selftext', 'author_fullname', 'saved', 'mod_reason_title', 'gilded', 'clicked', 'title', 'link_flair_richtext', 'subreddit_name_prefixed', 'hidden', 'pwls', 'link_flair_css_class', 'downs', 'thumbnail_height', 'top_awarded_type', 'hide_score', 'name', 'quarantine', 'link_flair_text_color', 'upvote_ratio', 'author_flair_background_color', 'subreddit_type', 'ups', 'total_awards_received', 'media_embed', 'thumbnail_width', 'author_flair_template_id', 'is_original_content', 'user_reports', 'secure_media', 'is_reddit_media_domain', 'is_meta', 'category', 'secure_media_embed', 'link_flair_text', 'can_mod_post', 'score', 'approved_by', 'is_created_from_ads_ui', 'author_premium', 'thumbnail', 'edited', 'author_flair_css_class', 'author_flair_richtext', 'gildings', 'post_hint', 'content_categories', 'is_self', 'mod_note', 'created', 'link_flair_type', 'wls', 'removed_by_category', 'banned_by', 'author_flair_type', 'domain', 'allow_live_comments', 'selftext_html', 'likes', 'suggested_sort', 'banned_at_utc', 'url_overridden_by_dest', 'view_count', 'archived', 'no_follow', 'is_crosspostable', 'pinned', 'over_18', 'preview', 'all_awardings', 'awarders', 'media_only', 'can_gild', 'spoiler', 'locked', 'author_flair_text', 'treatment_tags', 'visited', 'removed_by', 'num_reports', 'distinguished', 'subreddit_id', 'author_is_blocked', 'mod_reason_by', 'removal_reason', 'link_flair_background_color', 'id', 'is_robot_indexable', 'report_reasons', 'author', 'discussion_type', 'num_comments', 'send_replies', 'whitelist_status', 'contest_mode', 'mod_reports', 'author_patreon_flair', 'author_flair_text_color', 'permalink', 'parent_whitelist_status', 'stickied', 'url', 'subreddit_subscribers', 'created_utc', 'num_crossposts', 'media', 'is_video'])"
      ]
     },
     "execution_count": 28,
     "metadata": {},
     "output_type": "execute_result"
    }
   ],
   "source": [
    "test_set[0]['data'].keys()"
   ]
  },
  {
   "cell_type": "code",
   "execution_count": 7,
   "metadata": {},
   "outputs": [],
   "source": [
    "golden_sorted_permalinks = ['https://sh.reddit.com/r/clevercomebacks/comments/1dhjoup/clever_community_note/',\n",
    " 'https://sh.reddit.com/r/facepalm/comments/1dhkp9a/people_are_monsters/',\n",
    " 'https://sh.reddit.com/r/WhitePeopleTwitter/comments/1dhjvo9/not_sure_if_ive_seen_a_dumber_tweet/',\n",
    " 'https://sh.reddit.com/r/politics/comments/1dhm58l/thousands_sign_christian_petition_demanding/',\n",
    " 'https://sh.reddit.com/r/nottheonion/comments/1dhiatf/restaurant_bans_kids_under_5_citing_dirty_diapers/',\n",
    " 'https://sh.reddit.com/r/AnythingGoesNews/comments/1dhlzc8/ivanka_trump_mocked_after_amazing_dad_post_on/',\n",
    " 'https://sh.reddit.com/r/PublicFreakout/comments/1dhinku/sneako_gets_his_tooth_broken_by_security/',\n",
    " 'https://sh.reddit.com/r/mildlyinteresting/comments/1dhhfdf/local_brewery_had_this_sign_and_beer_for_dads_no/',\n",
    " 'https://sh.reddit.com/r/DunderMifflin/comments/1dhm0ys/sounds_about_right/',\n",
    " 'https://sh.reddit.com/r/meirl/comments/1dhl38b/meirl/',\n",
    " 'https://sh.reddit.com/r/FluentInFinance/comments/1dhiuya/hes_not_wrong/',\n",
    " 'https://sh.reddit.com/r/todayilearned/comments/1dhkead/til_chinese_emperor_qin_er_shi_was_considered_son/',\n",
    " 'https://sh.reddit.com/r/golf/comments/1dhhqlj/bryson_signing_a_fans_hat_on_his_way_to_the_next/',\n",
    " 'https://sh.reddit.com/r/MMA/comments/1dhjare/dustin_on_ig_today_lmfao/',\n",
    " 'https://sh.reddit.com/r/aww/comments/1dhhu8g/my_cat_gave_birth_to_4_kittens_last_month_finally/',\n",
    " 'https://sh.reddit.com/r/cats/comments/1dhiamk/say_thanks_to_my_grandmother_for_taking_my_cat_to/',\n",
    " 'https://sh.reddit.com/r/pics/comments/1dhn11v/daniel_radcliffe_is_now_a_tony_award_winner/',\n",
    " 'https://sh.reddit.com/r/nextfuckinglevel/comments/1dhhily/former_mma_fighter_perfectly_shuts_down_chokes/',\n",
    " 'https://sh.reddit.com/r/technology/comments/1dhehde/human_missions_to_mars_in_doubt_after_astronaut/',\n",
    " 'https://sh.reddit.com/r/wholesomememes/comments/1dhgtnz/youre_a_good_dude/',\n",
    " 'https://sh.reddit.com/r/CozyPlaces/comments/1dhniv6/my_selfconverted_school_bus/',\n",
    " 'https://sh.reddit.com/r/Unexpected/comments/1dhiqil/this_cat_doesnt_beg/',\n",
    " 'https://sh.reddit.com/r/Damnthatsinteresting/comments/1dhhnvp/architectural_assignment_completed/']\n",
    "\n",
    "golden_sorted_scores = [-1,\n",
    "0,\n",
    "0,\n",
    "0,\n",
    "0,\n",
    "0,\n",
    "0,\n",
    "0,\n",
    "0,\n",
    "0.5,\n",
    "0.5,\n",
    "0.5,\n",
    "0.5,\n",
    "0.5,\n",
    "1,\n",
    "1,\n",
    "1.5,\n",
    "1.5,\n",
    "2,\n",
    "3,\n",
    "3.5,\n",
    "4,\n",
    "5]"
   ]
  },
  {
   "cell_type": "code",
   "execution_count": 8,
   "metadata": {},
   "outputs": [],
   "source": [
    "golden_permalink_to_score = {l.removeprefix(\"https://sh.reddit.com\"): s for l,s in zip(golden_sorted_permalinks, golden_sorted_scores)}"
   ]
  },
  {
   "cell_type": "code",
   "execution_count": 32,
   "metadata": {},
   "outputs": [],
   "source": [
    "claude_permalink_to_rank = {v:k for k,v in rank_to_permalink.items()}"
   ]
  },
  {
   "cell_type": "code",
   "execution_count": 33,
   "metadata": {},
   "outputs": [],
   "source": [
    "claude_ranks = []\n",
    "golden_scores = []\n",
    "for permalink in set(golden_permalink_to_rank.keys()) & set(claude_permalink_to_rank.keys()):\n",
    "    claude_ranks.append(claude_permalink_to_rank[permalink])\n",
    "    golden_scores.append(golden_permalink_to_score[permalink])"
   ]
  },
  {
   "cell_type": "code",
   "execution_count": 34,
   "metadata": {},
   "outputs": [
    {
     "data": {
      "text/plain": [
       "[24,\n",
       " 0,\n",
       " 14,\n",
       " 17,\n",
       " 11,\n",
       " 21,\n",
       " 15,\n",
       " 3,\n",
       " 22,\n",
       " 5,\n",
       " 1,\n",
       " 16,\n",
       " 4,\n",
       " 2,\n",
       " 6,\n",
       " 8,\n",
       " 18,\n",
       " 12,\n",
       " 20,\n",
       " 10,\n",
       " 23,\n",
       " 9,\n",
       " 7]"
      ]
     },
     "execution_count": 34,
     "metadata": {},
     "output_type": "execute_result"
    }
   ],
   "source": [
    "claude_ranks"
   ]
  },
  {
   "cell_type": "code",
   "execution_count": 35,
   "metadata": {},
   "outputs": [
    {
     "data": {
      "text/plain": [
       "array([[ 1.        , -0.33913369],\n",
       "       [-0.33913369,  1.        ]])"
      ]
     },
     "execution_count": 35,
     "metadata": {},
     "output_type": "execute_result"
    }
   ],
   "source": [
    "import numpy as np\n",
    "np.corrcoef(claude_ranks, golden_scores)"
   ]
  },
  {
   "cell_type": "code",
   "execution_count": null,
   "metadata": {},
   "outputs": [],
   "source": []
  },
  {
   "cell_type": "code",
   "execution_count": null,
   "metadata": {},
   "outputs": [],
   "source": []
  },
  {
   "cell_type": "code",
   "execution_count": null,
   "metadata": {},
   "outputs": [],
   "source": []
  },
  {
   "cell_type": "code",
   "execution_count": null,
   "metadata": {},
   "outputs": [],
   "source": []
  },
  {
   "cell_type": "code",
   "execution_count": null,
   "metadata": {},
   "outputs": [],
   "source": []
  },
  {
   "cell_type": "code",
   "execution_count": 16,
   "metadata": {},
   "outputs": [
    {
     "name": "stdout",
     "output_type": "stream",
     "text": [
      "1\n",
      "https://sh.reddit.com/r/pics/comments/1dhn11v/daniel_radcliffe_is_now_a_tony_award_winner/\n",
      "2\n",
      "https://sh.reddit.com/r/facepalm/comments/1dhkp9a/people_are_monsters/\n",
      "3\n",
      "https://sh.reddit.com/r/nextfuckinglevel/comments/1dhhily/former_mma_fighter_perfectly_shuts_down_chokes/\n",
      "4\n",
      "https://sh.reddit.com/r/Damnthatsinteresting/comments/1dhhnvp/architectural_assignment_completed/\n",
      "5\n",
      "https://sh.reddit.com/r/meirl/comments/1dhl38b/meirl/\n",
      "6\n",
      "https://sh.reddit.com/r/aww/comments/1dhhu8g/my_cat_gave_birth_to_4_kittens_last_month_finally/\n",
      "7\n",
      "https://sh.reddit.com/r/WhitePeopleTwitter/comments/1dhjvo9/not_sure_if_ive_seen_a_dumber_tweet/\n",
      "8\n",
      "https://sh.reddit.com/r/FluentInFinance/comments/1dhiuya/hes_not_wrong/\n",
      "9\n",
      "https://sh.reddit.com/r/todayilearned/comments/1dhkead/til_chinese_emperor_qin_er_shi_was_considered_son/\n",
      "10\n",
      "https://sh.reddit.com/r/Unexpected/comments/1dhiqil/this_cat_doesnt_beg/\n",
      "11\n",
      "https://sh.reddit.com/r/golf/comments/1dhhqlj/bryson_signing_a_fans_hat_on_his_way_to_the_next/\n",
      "12\n",
      "https://sh.reddit.com/r/politics/comments/1dhm58l/thousands_sign_christian_petition_demanding/\n",
      "13\n",
      "https://sh.reddit.com/r/wholesomememes/comments/1dhgtnz/youre_a_good_dude/\n",
      "14\n",
      "https://sh.reddit.com/r/clevercomebacks/comments/1dhjoup/clever_community_note/\n",
      "15\n",
      "https://sh.reddit.com/r/funny/comments/1dhef9n/fathers_shame_from_beyond_the_grave/\n",
      "16\n",
      "https://sh.reddit.com/r/nottheonion/comments/1dhiatf/restaurant_bans_kids_under_5_citing_dirty_diapers/\n",
      "17\n",
      "https://sh.reddit.com/r/MadeMeSmile/comments/1dhf6fy/he_gave_his_daughter_all_the_love_and_care_which/\n",
      "18\n",
      "https://sh.reddit.com/r/CozyPlaces/comments/1dhniv6/my_selfconverted_school_bus/\n",
      "19\n",
      "https://sh.reddit.com/r/technology/comments/1dhehde/human_missions_to_mars_in_doubt_after_astronaut/\n",
      "20\n",
      "https://sh.reddit.com/r/AnythingGoesNews/comments/1dhlzc8/ivanka_trump_mocked_after_amazing_dad_post_on/\n",
      "21\n",
      "https://sh.reddit.com/r/MMA/comments/1dhjare/dustin_on_ig_today_lmfao/\n",
      "22\n",
      "https://sh.reddit.com/r/PublicFreakout/comments/1dhinku/sneako_gets_his_tooth_broken_by_security/\n",
      "23\n",
      "https://sh.reddit.com/r/mildlyinteresting/comments/1dhhfdf/local_brewery_had_this_sign_and_beer_for_dads_no/\n",
      "24\n",
      "https://sh.reddit.com/r/DunderMifflin/comments/1dhm0ys/sounds_about_right/\n",
      "25\n",
      "https://sh.reddit.com/r/cats/comments/1dhiamk/say_thanks_to_my_grandmother_for_taking_my_cat_to/\n",
      "26\n",
      "https://sh.reddit.com/r/interestingasfuck/comments/1dhfv9o/a_stream_of_rocks/\n",
      "27\n",
      "https://sh.reddit.com/r/goodboomerhumor/comments/1dhhlpl/do_giraffes_mean_nothing_to_you/\n",
      "28\n",
      "https://sh.reddit.com/r/sports/comments/1dhcx7b/angel_reese_sends_caitlin_clark_to_the_floor_with/\n",
      "29\n",
      "https://sh.reddit.com/r/pics/comments/1dhjs30/i_bought_a_half_pound_of_smoked_gouda_for_1169/\n",
      "30\n",
      "https://sh.reddit.com/r/CuratedTumblr/comments/1dhdfhx/the_champions_decree/\n",
      "31\n",
      "https://sh.reddit.com/r/wisconsin/comments/1dheram/wisconsin_speaks/\n",
      "32\n",
      "https://sh.reddit.com/r/AskReddit/comments/1dhgp0u/men_who_have_stopped_looking_at_porn_completely/\n",
      "33\n",
      "https://sh.reddit.com/r/PhotoshopRequest/comments/1dhego3/my_fiancées_uncle_has_passed_away_recently_and/\n",
      "34\n",
      "https://sh.reddit.com/r/ExplainTheJoke/comments/1dhf9h2/im_not_american/\n",
      "35\n",
      "https://sh.reddit.com/r/comedyheaven/comments/1dhctlf/babby_first_words/\n",
      "36\n",
      "https://sh.reddit.com/r/BlackPeopleTwitter/comments/1dhbkva/happy_fathers_day_to_those_who_understand/\n",
      "37\n",
      "https://sh.reddit.com/r/HouseOfTheDragon/comments/1dhnktg/murder_hood_is_back/\n",
      "38\n",
      "https://sh.reddit.com/r/LifeProTips/comments/1dhdt4m/lpt_when_buying_a_car_at_a_dealership_be_prepared/\n",
      "39\n",
      "https://sh.reddit.com/r/formuladank/comments/1dhix4a/peak_male_performance/\n",
      "40\n",
      "https://sh.reddit.com/r/blackmagicfuckery/comments/1dhc9ho/how_is_she_changing_her_dress_thoughts/\n",
      "41\n",
      "https://sh.reddit.com/r/HolUp/comments/1dhgcrf/something_doesnt_add_up/\n",
      "42\n",
      "https://sh.reddit.com/r/NonPoliticalTwitter/comments/1dhksvc/worth_a_shot/\n",
      "43\n",
      "https://sh.reddit.com/r/GuysBeingDudes/comments/1dhgfms/is_that_real/\n",
      "44\n",
      "https://sh.reddit.com/r/Eyebleach/comments/1dhcr4y/dad_didnt_want_to_play_but_the_puppies_insisted/\n",
      "45\n",
      "https://sh.reddit.com/r/comics/comments/1dha0ef/it_runs_in_the_family/\n",
      "46\n",
      "https://sh.reddit.com/r/therewasanattempt/comments/1dhg0eh/to_intimidate_on_guy_with_seven_friends/\n",
      "47\n",
      "https://sh.reddit.com/r/PoliticalHumor/comments/1dhchv6/blacks_for_trump/\n",
      "48\n",
      "https://sh.reddit.com/r/Damnthatsinteresting/comments/1dhi0x1/guy_with_no_experience_flying_planes_simulates/\n",
      "49\n",
      "https://sh.reddit.com/r/popculturechat/comments/1dhjjan/angelina_and_vivienne_jolie_at_the_77th_annual/\n",
      "50\n",
      "https://sh.reddit.com/r/me_irl/comments/1dhayna/me_irl/\n",
      "51\n",
      "https://sh.reddit.com/r/lego/comments/1dhfjey/finally_finished/\n",
      "52\n",
      "https://sh.reddit.com/r/todayilearned/comments/1dhgzq7/til_ace_of_base_got_their_big_break_when_a_record/\n",
      "53\n",
      "https://sh.reddit.com/r/PeterExplainsTheJoke/comments/1dhby5n/who_is_this_guy/\n",
      "54\n",
      "https://sh.reddit.com/r/HumansBeingBros/comments/1dh8dro/guy_finds_phone_actively_looks_for_owner/\n",
      "55\n",
      "https://sh.reddit.com/r/Funnymemes/comments/1dh9ffs/i_dont_go_abroad_because_there_is_no_bidet/\n",
      "56\n",
      "https://sh.reddit.com/r/cursedcomments/comments/1dhl9tq/cursed_daughter/\n",
      "57\n",
      "https://sh.reddit.com/r/OldSchoolCool/comments/1dhkam4/dad_and_his_plane_sometime_in_the_70s/\n",
      "58\n",
      "https://sh.reddit.com/r/WTF/comments/1dhe4cs/yeah_lets_go_boi/\n",
      "59\n",
      "https://sh.reddit.com/r/AnimalsBeingDerps/comments/1dhabrp/mlem_wars/\n",
      "60\n",
      "https://sh.reddit.com/r/gaming/comments/1dhav47/fromsoftware_says_elden_rings_popular_seamless/\n",
      "61\n",
      "https://sh.reddit.com/r/TrueOffMyChest/comments/1dheffx/my_friend_made_a_rape_list/\n",
      "62\n",
      "https://sh.reddit.com/r/worldnews/comments/1dh8s6n/trump_threatens_to_cut_off_aid_to_ukraine_prior/\n",
      "63\n",
      "https://sh.reddit.com/r/meirl/comments/1dhfs8a/meirl/\n",
      "64\n",
      "https://sh.reddit.com/r/anime_irl/comments/1dhhent/anime_irl/\n",
      "65\n",
      "https://sh.reddit.com/r/Fauxmoi/comments/1dhcf6t/henry_cavill_shows_nursery_room_ahead_of/\n",
      "66\n",
      "https://sh.reddit.com/r/Superstonk/comments/1dhjxlb/an_overdue_options_education_by_your_local/\n",
      "67\n",
      "https://sh.reddit.com/r/NewsOfTheStupid/comments/1dhk9pd/trumps_spiritual_adviser_quasiconfesses_to/\n",
      "68\n",
      "https://sh.reddit.com/r/science/comments/1dhi41r/teens_who_reported_using_cannabis_in_the_past/\n",
      "69\n",
      "https://sh.reddit.com/r/Eldenring/comments/1dhhwp9/if_you_are_fighting_radahn_without_summons_you/\n",
      "70\n",
      "https://sh.reddit.com/r/Whatcouldgowrong/comments/1dhnvc0/wcgw_when_you_go_hiking/\n",
      "71\n",
      "https://sh.reddit.com/r/goldenretrievers/comments/1dhe7in/my_beautiful_samson_passed_suddenly_yesterday_3/\n",
      "72\n",
      "https://sh.reddit.com/r/2meirl4meirl/comments/1dhbb65/2meirl4meirl/\n",
      "73\n",
      "https://sh.reddit.com/r/GlowUps/comments/1dhhr26/25_vs_27_i_finally_feel_like_myself_again/\n",
      "74\n",
      "https://sh.reddit.com/r/baseball/comments/1dhg2dz/fighter_jets_stop_play_in_baltimore_after_roaring/\n",
      "75\n",
      "https://sh.reddit.com/r/JustGuysBeingDudes/comments/1dhe5dg/just_two_guys_being_dudes/\n",
      "76\n",
      "https://sh.reddit.com/r/nba/comments/1dhgx6m/kyrie_on_the_celtics_if_any_player_is_coming_here/\n",
      "77\n",
      "https://sh.reddit.com/r/pettyrevenge/comments/1dhj8di/neighbour_is_a_complete_asshole_to_me_and_his_own/\n",
      "78\n",
      "https://sh.reddit.com/r/madlads/comments/1dhay4y/unknown_number/\n",
      "79\n",
      "https://sh.reddit.com/r/oddlysatisfying/comments/1dhf85y/laying_a_flat_roof/\n",
      "80\n",
      "https://sh.reddit.com/r/SipsTea/comments/1dhce9l/title_goes_here/\n",
      "81\n",
      "https://sh.reddit.com/r/HonkaiStarRail/comments/1dhfb8l/the_illusion_of_free_choice/\n",
      "82\n",
      "https://sh.reddit.com/r/news/comments/1dhfxnd/a_chinese_military_buff_inadvertently_bought_4/\n",
      "83\n",
      "https://sh.reddit.com/r/travisandtaylor/comments/1dhltu1/i_really_dislike_the_line_you_wouldnt_last_an/\n",
      "84\n",
      "https://sh.reddit.com/r/aww/comments/1dhjlo7/glad_i_have_cameras_to_capture_moments_like_these/\n",
      "85\n",
      "https://sh.reddit.com/r/Grimdank/comments/1dh8j6g/now_heres_a_dad_to_be_whos_got_his_priorities/\n",
      "86\n",
      "https://sh.reddit.com/r/BeAmazed/comments/1dh7flh/smooth_transition/\n",
      "87\n",
      "https://sh.reddit.com/r/funny/comments/1dhlxtp/shes_got_spirit/\n",
      "88\n",
      "https://sh.reddit.com/r/TikTokCringe/comments/1dhc8zl/1000_red_hot_ball_vs_aloe_vera_gel/\n",
      "89\n",
      "https://sh.reddit.com/r/AITAH/comments/1dhce4h/aita_for_not_wanting_to_do_anal_with_my_boyfriend/\n",
      "90\n",
      "https://sh.reddit.com/r/interestingasfuck/comments/1dhc49d/1000_red_hot_ball_vs_aloe_vera_gel/\n",
      "91\n",
      "https://sh.reddit.com/r/Hololive/comments/1dhh4bi/utena_shiori/\n",
      "92\n",
      "https://sh.reddit.com/r/shittymoviedetails/comments/1dhfraw/the_boys_will_get_a_third_spinoff_this_is_because/\n",
      "93\n",
      "https://sh.reddit.com/r/NikkeMobile/comments/1dhn5b2/nikke_profile_clay/\n",
      "94\n",
      "https://sh.reddit.com/r/Steam/comments/1dh6pai/how_gabe_newell_has_changed_over_the_years/\n",
      "95\n",
      "https://sh.reddit.com/r/nextfuckinglevel/comments/1dhh26y/insane_camera_zoom_at_coachella_2024/\n",
      "96\n",
      "https://sh.reddit.com/r/ContagiousLaughter/comments/1dhe599/meow/\n",
      "97\n",
      "https://sh.reddit.com/r/maybemaybemaybe/comments/1dh8z9k/maybe_maybe_maybe/\n",
      "98\n",
      "https://sh.reddit.com/r/cats/comments/1dhd6oi/my_cat_fell_off_the_balcony_and_im_heartbroken/\n",
      "99\n",
      "https://sh.reddit.com/r/memes/comments/1dhgvyo/peek_masculine_love/\n",
      "100\n",
      "https://sh.reddit.com/r/rareinsults/comments/1dhao65/this_one_is_funny/\n"
     ]
    }
   ],
   "source": [
    "for i,post in enumerate(posts):\n",
    "    print(i+1)\n",
    "    print(\"https://sh.reddit.com\" + post[\"data\"][\"permalink\"])"
   ]
  },
  {
   "cell_type": "code",
   "execution_count": 14,
   "metadata": {},
   "outputs": [
    {
     "data": {
      "text/plain": [
       "'sh.reddit.com/r/pics/comments/1dhn11v/daniel_radcliffe_is_now_a_tony_award_winner/'"
      ]
     },
     "execution_count": 14,
     "metadata": {},
     "output_type": "execute_result"
    }
   ],
   "source": [
    "\"https://sh.reddit.com\" + posts[0][\"data\"][\"permalink\"]"
   ]
  },
  {
   "cell_type": "code",
   "execution_count": 18,
   "metadata": {},
   "outputs": [],
   "source": [
    "from collections import Counter\n",
    "\n",
    "subcounter = Counter()\n",
    "\n",
    "for post in posts:\n",
    "    subcounter[post[\"data\"][\"subreddit\"]] += 1"
   ]
  },
  {
   "cell_type": "code",
   "execution_count": 19,
   "metadata": {},
   "outputs": [
    {
     "data": {
      "text/plain": [
       "Counter({'pics': 2,\n",
       "         'nextfuckinglevel': 2,\n",
       "         'Damnthatsinteresting': 2,\n",
       "         'meirl': 2,\n",
       "         'aww': 2,\n",
       "         'todayilearned': 2,\n",
       "         'funny': 2,\n",
       "         'cats': 2,\n",
       "         'interestingasfuck': 2,\n",
       "         'facepalm': 1,\n",
       "         'WhitePeopleTwitter': 1,\n",
       "         'FluentInFinance': 1,\n",
       "         'Unexpected': 1,\n",
       "         'golf': 1,\n",
       "         'politics': 1,\n",
       "         'wholesomememes': 1,\n",
       "         'clevercomebacks': 1,\n",
       "         'nottheonion': 1,\n",
       "         'MadeMeSmile': 1,\n",
       "         'CozyPlaces': 1,\n",
       "         'technology': 1,\n",
       "         'AnythingGoesNews': 1,\n",
       "         'MMA': 1,\n",
       "         'PublicFreakout': 1,\n",
       "         'mildlyinteresting': 1,\n",
       "         'DunderMifflin': 1,\n",
       "         'goodboomerhumor': 1,\n",
       "         'sports': 1,\n",
       "         'CuratedTumblr': 1,\n",
       "         'wisconsin': 1,\n",
       "         'AskReddit': 1,\n",
       "         'PhotoshopRequest': 1,\n",
       "         'ExplainTheJoke': 1,\n",
       "         'comedyheaven': 1,\n",
       "         'BlackPeopleTwitter': 1,\n",
       "         'HouseOfTheDragon': 1,\n",
       "         'LifeProTips': 1,\n",
       "         'formuladank': 1,\n",
       "         'blackmagicfuckery': 1,\n",
       "         'HolUp': 1,\n",
       "         'NonPoliticalTwitter': 1,\n",
       "         'GuysBeingDudes': 1,\n",
       "         'Eyebleach': 1,\n",
       "         'comics': 1,\n",
       "         'therewasanattempt': 1,\n",
       "         'PoliticalHumor': 1,\n",
       "         'popculturechat': 1,\n",
       "         'me_irl': 1,\n",
       "         'lego': 1,\n",
       "         'PeterExplainsTheJoke': 1,\n",
       "         'HumansBeingBros': 1,\n",
       "         'Funnymemes': 1,\n",
       "         'cursedcomments': 1,\n",
       "         'OldSchoolCool': 1,\n",
       "         'WTF': 1,\n",
       "         'AnimalsBeingDerps': 1,\n",
       "         'gaming': 1,\n",
       "         'TrueOffMyChest': 1,\n",
       "         'worldnews': 1,\n",
       "         'anime_irl': 1,\n",
       "         'Fauxmoi': 1,\n",
       "         'Superstonk': 1,\n",
       "         'NewsOfTheStupid': 1,\n",
       "         'science': 1,\n",
       "         'Eldenring': 1,\n",
       "         'Whatcouldgowrong': 1,\n",
       "         'goldenretrievers': 1,\n",
       "         '2meirl4meirl': 1,\n",
       "         'GlowUps': 1,\n",
       "         'baseball': 1,\n",
       "         'JustGuysBeingDudes': 1,\n",
       "         'nba': 1,\n",
       "         'pettyrevenge': 1,\n",
       "         'madlads': 1,\n",
       "         'oddlysatisfying': 1,\n",
       "         'SipsTea': 1,\n",
       "         'HonkaiStarRail': 1,\n",
       "         'news': 1,\n",
       "         'travisandtaylor': 1,\n",
       "         'Grimdank': 1,\n",
       "         'BeAmazed': 1,\n",
       "         'TikTokCringe': 1,\n",
       "         'AITAH': 1,\n",
       "         'Hololive': 1,\n",
       "         'shittymoviedetails': 1,\n",
       "         'NikkeMobile': 1,\n",
       "         'Steam': 1,\n",
       "         'ContagiousLaughter': 1,\n",
       "         'maybemaybemaybe': 1,\n",
       "         'memes': 1,\n",
       "         'rareinsults': 1})"
      ]
     },
     "execution_count": 19,
     "metadata": {},
     "output_type": "execute_result"
    }
   ],
   "source": [
    "subcounter"
   ]
  },
  {
   "cell_type": "code",
   "execution_count": null,
   "metadata": {},
   "outputs": [],
   "source": []
  }
 ],
 "metadata": {
  "kernelspec": {
   "display_name": "Python 3",
   "language": "python",
   "name": "python3"
  },
  "language_info": {
   "codemirror_mode": {
    "name": "ipython",
    "version": 3
   },
   "file_extension": ".py",
   "mimetype": "text/x-python",
   "name": "python",
   "nbconvert_exporter": "python",
   "pygments_lexer": "ipython3",
   "version": "3.12.0"
  }
 },
 "nbformat": 4,
 "nbformat_minor": 2
}
